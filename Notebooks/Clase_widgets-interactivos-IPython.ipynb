{
 "metadata": {
  "name": "",
  "signature": "sha256:76bbf6d9da1ee2adc8c5db8ed9eec01f7bc48624ffad368b3febba9747101189"
 },
 "nbformat": 3,
 "nbformat_minor": 0,
 "worksheets": [
  {
   "cells": [
    {
     "cell_type": "markdown",
     "metadata": {},
     "source": [
      "<img src=\"../static/pybofractal.png\" alt=\"Pybonacci\" style=\"width: 200px;\"/>\n",
      "<img src=\"../static/cacheme_logo.png\" alt=\"CAChemE\" style=\"width: 300px;\"/>"
     ]
    },
    {
     "cell_type": "heading",
     "level": 1,
     "metadata": {},
     "source": [
      "Clase: Uso de widgets interactivos de IPython"
     ]
    },
    {
     "cell_type": "markdown",
     "metadata": {},
     "source": [
      "_Despu\u00e9s de haber aprendido a utilizar las bibliotecas de Python cient\u00edfico claves (NumPy, matplotlib y SymPy), con los m\u00f3dulos interactivos de IPython / Jupyter podemos obtener resultados interactivas de muy alta calidad y altamente personalizables._\n",
      "\n",
      "_La funci\u00f3n `interactive` (IPython.html.widgets.interact) crea autom\u00e1ticamente y con un comando una interfaz gr\u00e1fica de usuario (GUI) para la exploraci\u00f3n de c\u00f3digo y datos de forma interactiva. Es la forma m\u00e1s f\u00e1cil de comenzar a utilizar los widgets de IPython._\n",
      "\n",
      "_ Este notebook es una traducci\u00f3n parcial de un [tutorial de Jupyter dado por sus desarroladores](https://github.com/jupyter/strata-sv-2015-tutorial) durante la [Strata Silicon Valley 2015](http://strataconf.com/big-data-conference-ca-2015). Vamos a empezar por lo m\u00e1s sencillo._"
     ]
    },
    {
     "cell_type": "markdown",
     "metadata": {},
     "source": [
      "En primer lugar, importamos los m\u00f3dulos que vamos a utilizar:"
     ]
    },
    {
     "cell_type": "code",
     "collapsed": false,
     "input": [
      "from __future__ import print_function\n",
      "from IPython.html.widgets import interact, interactive, fixed\n",
      "from IPython.html import widgets"
     ],
     "language": "python",
     "metadata": {},
     "outputs": [],
     "prompt_number": 1
    },
    {
     "cell_type": "heading",
     "level": 2,
     "metadata": {},
     "source": [
      "Uso b\u00e1sico de `interact`"
     ]
    },
    {
     "cell_type": "markdown",
     "metadata": {},
     "source": [
      "At the most basic level, interact autogenerates UI controls for function arguments, and then calls the function with those arguments when you manipulate the controls interactively. To use interact, you need to define a function that you want to explore. Here is a function that prints its only argument x.\n",
      "\n",
      "A nivel m\u00e1s b\u00e1sico, `interact` genera controles autom\u00e1ticamente mediante una interfaz gr\u00e1fica de usuario para los argumentos de una funci\u00f3n que debe ser definida previamente. As\u00ed, `interact` llama a dicha funci\u00f3n con los argumentos que se definieron para manipularlos con controles de forma interactiva.\n",
      "\n",
      "Por tanto, para utilizar `interact`, es necesario definir la funci\u00f3n en Python que desea explorar. Vamos a crear es una funci\u00f3n que imprime su \u00fanico argumento x:"
     ]
    },
    {
     "cell_type": "code",
     "collapsed": false,
     "input": [
      "def f(x):\n",
      "    print(x)"
     ],
     "language": "python",
     "metadata": {},
     "outputs": [],
     "prompt_number": 2
    },
    {
     "cell_type": "markdown",
     "metadata": {},
     "source": [
      "When you pass this function as the first argument to interact along with an integer keyword argument (x=10), a slider is generated and bound to the function.\n",
      "\n",
      "Ahora utilizaremos esta funci\u00f3n como primer argumento para `interact` junto con un argumento predifinido a un entero (`x = 10`), se autogenera un control deslizante (slider) y con que nos permite interactuar con esta funci\u00f3n."
     ]
    },
    {
     "cell_type": "code",
     "collapsed": false,
     "input": [
      "interact(f, x=10);"
     ],
     "language": "python",
     "metadata": {},
     "outputs": [
      {
       "output_type": "stream",
       "stream": "stdout",
       "text": [
        "10\n"
       ]
      }
     ],
     "prompt_number": 3
    },
    {
     "cell_type": "markdown",
     "metadata": {},
     "source": [
      "Al mover el deslizador, se llama a la funci\u00f3n y el valor actual de x se imprime.\n",
      "\n",
      "Si hacemos pasar un `True` o `False`, `interact` generar\u00e1 una casilla de verificaci\u00f3n:"
     ]
    },
    {
     "cell_type": "code",
     "collapsed": false,
     "input": [
      "interact(f, x=True);"
     ],
     "language": "python",
     "metadata": {},
     "outputs": [
      {
       "output_type": "stream",
       "stream": "stdout",
       "text": [
        "True\n"
       ]
      }
     ],
     "prompt_number": 4
    },
    {
     "cell_type": "markdown",
     "metadata": {},
     "source": [
      "Si hacemos pasar una cadena de texto (string), `interact` generar\u00e1 un campo de texto:"
     ]
    },
    {
     "cell_type": "code",
     "collapsed": false,
     "input": [
      "interact(f, x=u'\u00a1Hola!');  "
     ],
     "language": "python",
     "metadata": {},
     "outputs": [
      {
       "output_type": "stream",
       "stream": "stdout",
       "text": [
        "\u00a1Hola!\n"
       ]
      }
     ],
     "prompt_number": 5
    },
    {
     "cell_type": "heading",
     "level": 2,
     "metadata": {},
     "source": [
      "Fijando argumentos usando `fixed`"
     ]
    },
    {
     "cell_type": "markdown",
     "metadata": {},
     "source": [
      "Hay momentos en los que es posible que vayamos a explorar una funci\u00f3n utilizando `interact`, pero queramos fijar una o m\u00e1s de sus argumentos a valores espec\u00edficos. Esto puede lograrse haciendo uso la funci\u00f3n `fixed`."
     ]
    },
    {
     "cell_type": "code",
     "collapsed": false,
     "input": [
      "def h(p, q):\n",
      "    print(p, q)"
     ],
     "language": "python",
     "metadata": {},
     "outputs": [],
     "prompt_number": 6
    },
    {
     "cell_type": "markdown",
     "metadata": {},
     "source": [
      "Cuando llamamos a `interact`, hacemos pasar `fixed(20)` para mantener `q` fijado al valor de 20."
     ]
    },
    {
     "cell_type": "code",
     "collapsed": false,
     "input": [
      "interact(h, p=5, q=fixed(20));"
     ],
     "language": "python",
     "metadata": {},
     "outputs": [
      {
       "output_type": "stream",
       "stream": "stdout",
       "text": [
        "5 20\n"
       ]
      }
     ],
     "prompt_number": 7
    },
    {
     "cell_type": "markdown",
     "metadata": {},
     "source": [
      "Fijate que el deslizador solo responde a `p` y que el valor de `q` est\u00e1 fijado con el valor 20. "
     ]
    },
    {
     "cell_type": "markdown",
     "metadata": {},
     "source": [
      "## *Widget abbreviation*"
     ]
    },
    {
     "cell_type": "markdown",
     "metadata": {},
     "source": [
      "Cuando pasamos un entero como argumento (`x=10`) a `interact`, se genera un deslizador de valores enteros con el rango de $[-10,+3\\times10]$. En este caso, `10` es una *abreviaci\u00f3n* de un widget slider tipo:\n",
      "\n",
      "```python\n",
      "IntSliderWidget(min=-10,max=30,step=1,value=10)\n",
      "```\n",
      "\n",
      "De hecho, podemos obtener el mismo resultado si pasamos este `IntSliderWidget` como el argumento de palabra clave para `x`:"
     ]
    },
    {
     "cell_type": "code",
     "collapsed": false,
     "input": [
      "interact(f, x=widgets.IntSliderWidget(min=-10,max=30,step=1,value=10));"
     ],
     "language": "python",
     "metadata": {},
     "outputs": [
      {
       "output_type": "stream",
       "stream": "stdout",
       "text": [
        "10\n"
       ]
      }
     ],
     "prompt_number": 8
    },
    {
     "cell_type": "markdown",
     "metadata": {},
     "source": [
      "Este ejemplo aclara como interactuar con con procesos mediante sus argumentos clave:\n",
      "\n",
      "1. Si el argumento clave es `Widget` con un atributo tipo `value`, se utiliza el widget tipo slider. Cualquier widget con un atributo que resulte en un valor num\u00e9rico se puede utilizar, incluso los personalizados.\n",
      "2. De lo contrario, el valor se trata como una *widget abbreviation* que se convierte en un widget antes de su uso.\n",
      "\n",
      "La siguiente tabla ofrece una visi\u00f3n general de los diferentes *widget abbreviation*:\n",
      "\n",
      "\n",
      "<table class=\"table table-condensed table-bordered\">\n",
      "  <tr><td><strong>Keyword argument</strong></td><td><strong>Widget</strong></td></tr>  \n",
      "  <tr><td>`True` or `False`</td><td>CheckboxWidget</td></tr>  \n",
      "  <tr><td>`'Hola'`</td><td>TextareaWidget</td></tr>\n",
      "  <tr><td>`value` or `(min,max)` or `(min,max,step)` if integers are passed</td><td>IntSliderWidget</td></tr>\n",
      "  <tr><td>`value` or `(min,max)` or `(min,max,step)` if floats are passed</td><td>FloatSliderWidget</td></tr>\n",
      "  <tr><td>`('naranja','manzana')` or `{'uno':1,'dos':2}`</td><td>Dropdown</td></tr>\n",
      "</table>"
     ]
    },
    {
     "cell_type": "markdown",
     "metadata": {},
     "source": [
      "Hemos visto arriba c\u00f3mo funcionan los widgets checkbox y de \u00e1rea de texto. Veamos, m\u00e1s detalles sobre las diferentes abreviaturas para deslizadores y men\u00fas desplegables.\n",
      "\n",
      "Si se pasa un tupla con dos enteros `(min, max)` un deslizador con valores tambi\u00e9n enteros se crea utilizando los mismos como m\u00e1ximo y m\u00ednimo. En este caso, se utiliza el tama\u00f1o de paso predeterminado de `1`."
     ]
    },
    {
     "cell_type": "code",
     "collapsed": false,
     "input": [
      "interact(f, x=(0,4));"
     ],
     "language": "python",
     "metadata": {},
     "outputs": [
      {
       "output_type": "stream",
       "stream": "stdout",
       "text": [
        "2\n"
       ]
      }
     ],
     "prompt_number": 9
    },
    {
     "cell_type": "markdown",
     "metadata": {},
     "source": [
      "Si se pasa un tupla con tres enteros `(min,max,step)`, lo que hacemos es determinar tambi\u00e9n el tama\u00f1o de paso:"
     ]
    },
    {
     "cell_type": "code",
     "collapsed": false,
     "input": [
      "interact(f, x=(0,8,2));"
     ],
     "language": "python",
     "metadata": {
      "scrolled": true
     },
     "outputs": [
      {
       "output_type": "stream",
       "stream": "stdout",
       "text": [
        "4\n"
       ]
      }
     ],
     "prompt_number": 10
    },
    {
     "cell_type": "markdown",
     "metadata": {},
     "source": [
      "Para que el widget devuelva valores en coma flotante, debemos pasar una tupla con valores en coma flotante. En el siguiente ejemplo, el m\u00ednimo es  `0.0`, el m\u00e1ximo es `10.0` y el intervalo es de `0.1` (por defecto)."
     ]
    },
    {
     "cell_type": "code",
     "collapsed": false,
     "input": [
      "interact(f, x=(0.0,10.0));"
     ],
     "language": "python",
     "metadata": {
      "scrolled": true
     },
     "outputs": [
      {
       "output_type": "stream",
       "stream": "stdout",
       "text": [
        "5.0\n"
       ]
      }
     ],
     "prompt_number": 11
    },
    {
     "cell_type": "markdown",
     "metadata": {},
     "source": [
      "De  nuevo, el  tama\u00f1o del intervalo se puede determinar haciendo uso de un tercer elemento en la tupla:"
     ]
    },
    {
     "cell_type": "code",
     "collapsed": false,
     "input": [
      "interact(f, x=(0.0,10.0,0.01));"
     ],
     "language": "python",
     "metadata": {
      "scrolled": true
     },
     "outputs": [
      {
       "output_type": "stream",
       "stream": "stdout",
       "text": [
        "4.99\n"
       ]
      }
     ],
     "prompt_number": 12
    },
    {
     "cell_type": "markdown",
     "metadata": {},
     "source": [
      "\n",
      "Para ambos sliders de enteros  y flotantes, se puede escoger el valor inicial del widget pasando un argumento de palabra clave por defecto a la funci\u00f3n Python subyacente. Aqu\u00ed establecemos el valor inicial de un slider con valores en coma flotante a `5.5`."
     ]
    },
    {
     "cell_type": "code",
     "collapsed": false,
     "input": [
      "def h(x=5.5):\n",
      "    print(x)\n",
      "    \n",
      "interact(h, x=(0.0,20.0,0.5));"
     ],
     "language": "python",
     "metadata": {},
     "outputs": [
      {
       "output_type": "stream",
       "stream": "stdout",
       "text": [
        "5.5\n"
       ]
      }
     ],
     "prompt_number": 13
    },
    {
     "cell_type": "markdown",
     "metadata": {},
     "source": [
      "Tambi\u00e9n podemos crear men\u00fas desplegables haciendo pasar una tupla de cadenas de texto (*strings*). En este caso, las cadenas de texto son utilizados como los nombres de la interfaz de usuario del men\u00fa desplegable y pasan a la funci\u00f3n Python subyacente."
     ]
    },
    {
     "cell_type": "code",
     "collapsed": false,
     "input": [
      "interact(f, x=('manzanas','naranjas'));"
     ],
     "language": "python",
     "metadata": {
      "scrolled": true
     },
     "outputs": [
      {
       "output_type": "stream",
       "stream": "stdout",
       "text": [
        "manzanas\n"
       ]
      }
     ],
     "prompt_number": 14
    },
    {
     "cell_type": "markdown",
     "metadata": {},
     "source": [
      "Si quieres un men\u00fa desplegable que pasa valores que no son cadenas de texto a la funci\u00f3n de Python, se puede pasar un diccionario. Las palabras claves del diccionario se utilizan para los nombres de la interfaz de usuario del men\u00fa desplegable y los valores son los argumentos que se pasan a la funci\u00f3n Python subyacente. Se puede entender mejor viendo este ejemplo:"
     ]
    },
    {
     "cell_type": "code",
     "collapsed": false,
     "input": [
      "interact(f, x={'uno': 10, 'dos': 20});"
     ],
     "language": "python",
     "metadata": {
      "scrolled": true
     },
     "outputs": [
      {
       "output_type": "stream",
       "stream": "stdout",
       "text": [
        "20\n"
       ]
      }
     ],
     "prompt_number": 15
    },
    {
     "cell_type": "markdown",
     "metadata": {},
     "source": [
      "# Widgets  interactivos y Matplotlib"
     ]
    },
    {
     "cell_type": "markdown",
     "metadata": {},
     "source": [
      "Como ya sabes, IPython de maravilla con [Matplotlib](http://matplotlib.org/). Veamos c\u00f3mo podemos combinar los widgets interactivos con esta bibliote gr\u00e1fica."
     ]
    },
    {
     "cell_type": "markdown",
     "metadata": {},
     "source": [
      "### Repaso: creando un gr\u00e1fico"
     ]
    },
    {
     "cell_type": "markdown",
     "metadata": {},
     "source": [
      "A modo de repaso, veamos c\u00f3mo creabamos un gr\u00e1fico simple. Primero debemos de cargar las bibliotecas:"
     ]
    },
    {
     "cell_type": "code",
     "collapsed": false,
     "input": [
      "from __future__ import print_function\n",
      "from IPython.html.widgets import interact, interactive, fixed\n",
      "\n",
      "import matplotlib.pyplot as plt\n",
      "import numpy as np\n",
      "\n",
      "%matplotlib inline\n",
      "\n",
      "# Vamos a cambiar el estilo por defecto (opcional)\n",
      "plt.style.use('ggplot')"
     ],
     "language": "python",
     "metadata": {},
     "outputs": [],
     "prompt_number": 16
    },
    {
     "cell_type": "code",
     "collapsed": false,
     "input": [
      "# Creamos un array con valores de x\n",
      "x = np.linspace(0, 3*np.pi, 500)\n",
      "y = np.sin(x**2)\n",
      "\n",
      "plt.plot(x, y)\n",
      "plt.title(u'Un gr\u00e1fico simple');"
     ],
     "language": "python",
     "metadata": {},
     "outputs": [
      {
       "metadata": {},
       "output_type": "display_data",
       "png": "[encoded data removed]",
       "text": [
        "<matplotlib.figure.Figure at 0xb8a2f60>"
       ]
      }
     ],
     "prompt_number": 17
    },
    {
     "cell_type": "markdown",
     "metadata": {},
     "source": [
      "### Haciendo un gr\u00e1fico interactivo"
     ]
    },
    {
     "cell_type": "markdown",
     "metadata": {},
     "source": [
      "En el siguiente ejemplo, una funci\u00f3n que representa gr\u00e1ficamente la suma de dos ondas sinusoidales la combinamos con `interact`."
     ]
    },
    {
     "cell_type": "code",
     "collapsed": false,
     "input": [
      "def dibuja_ondas(frequencia1, frequencia2):\n",
      "    x = np.linspace(0, 3*np.pi, 500)\n",
      "    y = np.sin(x*frequencia1) + np.sin(x*frequencia2)\n",
      "    plt.plot(x,y)\n",
      "    \n",
      "    plt.title(u'\u00a1Mira mam\u00e1, gr\u00e1ficos interactivos!')\n",
      "    \n",
      "interact( dibuja_ondas, frequencia1=20., frequencia2=21.)"
     ],
     "language": "python",
     "metadata": {},
     "outputs": [
      {
       "metadata": {},
       "output_type": "pyout",
       "prompt_number": 18,
       "text": [
        "<function __main__.dibuja_ondas>"
       ]
      },
      {
       "metadata": {},
       "output_type": "display_data",
       "png": "[encoded data removed]",
       "text": [
        "<matplotlib.figure.Figure at 0xb8a2cc0>"
       ]
      }
     ],
     "prompt_number": 18
    },
    {
     "cell_type": "markdown",
     "metadata": {},
     "source": [
      "# Referencias"
     ]
    },
    {
     "cell_type": "markdown",
     "metadata": {},
     "source": [
      "* [Ejemplos de IPython](https://github.com/ipython/ipython/tree/master/examples)"
     ]
    },
    {
     "cell_type": "markdown",
     "metadata": {},
     "source": [
      "Si te ha gustado esta clase:\n",
      "\n",
      "<a href=\"https://twitter.com/share\" class=\"twitter-share-button\" data-url=\"https://github.com/CAChemE/curso-python-cientifico\" data-text=\"Aprendiendo Python con\" data-via=\"pybonacci\" data-size=\"large\" data-hashtags=\"AeroPython\">Tweet</a>\n",
      "<script>!function(d,s,id){var js,fjs=d.getElementsByTagName(s)[0],p=/^http:/.test(d.location)?'http':'https';if(!d.getElementById(id)){js=d.createElement(s);js.id=id;js.src=p+'://platform.twitter.com/widgets.js';fjs.parentNode.insertBefore(js,fjs);}}(document, 'script', 'twitter-wjs');</script>\n",
      "\n",
      "---"
     ]
    },
    {
     "cell_type": "heading",
     "level": 6,
     "metadata": {},
     "source": [
      "<img src=\"../static/linkedin.png\" alt=\"AeroPython\" style=\"width: 25px\" align=\"right\";/> Curso impartido por: [Juan Luis Cano](http://es.linkedin.com/in/juanluiscanor)"
     ]
    },
    {
     "cell_type": "heading",
     "level": 4,
     "metadata": {},
     "source": [
      "<h4 align=\"right\">\u00a1S\u00edguenos en Twitter!"
     ]
    },
    {
     "cell_type": "heading",
     "level": 6,
     "metadata": {},
     "source": [
      "<a href=\"https://twitter.com/Pybonacci\" class=\"twitter-follow-button\" data-show-count=\"false\">Follow @Pybonacci</a>\n",
      "<script>!function(d,s,id){var js,fjs=d.getElementsByTagName(s)[0],p=/^http:/.test(d.location)?'http':'https';if(!d.getElementById(id)){js=d.createElement(s);js.id=id;js.src=p+'://platform.twitter.com/widgets.js';fjs.parentNode.insertBefore(js,fjs);}}(document, 'script', 'twitter-wjs');</script>\n",
      "\n",
      "<a href=\"https://twitter.com/CAChemEorg\" class=\"twitter-follow-button\" data-show-count=\"false\" align=\"right\";>Follow @CAChemEorg</a>\n",
      "<script>!function(d,s,id){var js,fjs=d.getElementsByTagName(s)[0],p=/^http:/.test(d.location)?'http':'https';if(!d.getElementById(id)){js=d.createElement(s);js.id=id;js.src=p+'://platform.twitter.com/widgets.js';fjs.parentNode.insertBefore(js,fjs);}}(document, 'script', 'twitter-wjs');</script>"
     ]
    },
    {
     "cell_type": "heading",
     "level": 5,
     "metadata": {},
     "source": [
      "<a rel=\"license\" href=\"http://creativecommons.org/licenses/by/4.0/deed.es\"><img alt=\"Licencia Creative Commons\" style=\"border-width:0\" src=\"http://i.creativecommons.org/l/by/4.0/88x31.png\" /></a><br /><span xmlns:dct=\"http://purl.org/dc/terms/\" property=\"dct:title\">Curso de Python para cient\u00edficos e ingenieros</span> por <span xmlns:cc=\"http://creativecommons.org/ns#\" property=\"cc:attributionName\">Juan Luis Cano Rodriguez</span> se distribuye bajo una <a rel=\"license\" href=\"http://creativecommons.org/licenses/by/4.0/deed.es\">Licencia Creative Commons Atribuci\u00f3n 4.0 Internacional</a>."
     ]
    },
    {
     "cell_type": "heading",
     "level": 5,
     "metadata": {},
     "source": [
      "<script src=\"//platform.linkedin.com/in.js\" type=\"text/javascript\"></script>\n",
      "<script type=\"IN/MemberProfile\" data-id=\"http://es.linkedin.com/in/juanluiscanor\" data-format=\"inline\" data-related=\"false\"></script>\n",
      "<script src=\"//platform.linkedin.com/in.js\" type=\"text/javascript\"></script>\n",
      "<script type=\"IN/MemberProfile\" data-id=\"http://es.linkedin.com/in/alejandrosaezm\" data-format=\"inline\" data-related=\"false\"></script>"
     ]
    },
    {
     "cell_type": "markdown",
     "metadata": {},
     "source": [
      "---\n",
      "_Las siguientes celdas contienen configuraci\u00f3n del Notebook_\n",
      "\n",
      "_Para visualizar y utlizar los enlaces a Twitter el notebook debe ejecutarse como [seguro](http://ipython.org/ipython-doc/dev/notebook/security.html)_\n",
      "\n",
      "    File > Trusted Notebook"
     ]
    },
    {
     "cell_type": "code",
     "collapsed": false,
     "input": [
      "%%html\n",
      "<a href=\"https://twitter.com/Pybonacci\" class=\"twitter-follow-button\" data-show-count=\"false\">Follow @Pybonacci</a>\n",
      "<script>!function(d,s,id){var js,fjs=d.getElementsByTagName(s)[0],p=/^http:/.test(d.location)?'http':'https';if(!d.getElementById(id)){js=d.createElement(s);js.id=id;js.src=p+'://platform.twitter.com/widgets.js';fjs.parentNode.insertBefore(js,fjs);}}(document, 'script', 'twitter-wjs');</script>"
     ],
     "language": "python",
     "metadata": {},
     "outputs": [
      {
       "html": [
        "<a href=\"https://twitter.com/Pybonacci\" class=\"twitter-follow-button\" data-show-count=\"false\">Follow @Pybonacci</a>\n",
        "<script>!function(d,s,id){var js,fjs=d.getElementsByTagName(s)[0],p=/^http:/.test(d.location)?'http':'https';if(!d.getElementById(id)){js=d.createElement(s);js.id=id;js.src=p+'://platform.twitter.com/widgets.js';fjs.parentNode.insertBefore(js,fjs);}}(document, 'script', 'twitter-wjs');</script>"
       ],
       "metadata": {},
       "output_type": "display_data",
       "text": [
        "<IPython.core.display.HTML at 0xb9859e8>"
       ]
      }
     ],
     "prompt_number": 19
    },
    {
     "cell_type": "code",
     "collapsed": false,
     "input": [
      "# Esta celda da el estilo al notebook\n",
      "from IPython.core.display import HTML\n",
      "css_file = '../static/styles/style.css'\n",
      "HTML(open(css_file, \"r\").read())"
     ],
     "language": "python",
     "metadata": {},
     "outputs": [
      {
       "html": [
        "/* This template is inspired in the one used by Lorena Barba\n",
        "in the numerical-mooc repository: https://github.com/numerical-mooc/numerical-mooc\n",
        "We thank her work and hope you also enjoy the look of the notobooks with this style */\n",
        "\n",
        "<link href='http://fonts.googleapis.com/css?family=Source+Sans+Pro|Josefin+Sans:400,700,400italic|Ubuntu+Condensed' rel='stylesheet' type='text/css'>\n",
        "\n",
        "El estilo se ha aplicado =)\n",
        "\n",
        "<style>\n",
        "\n",
        "\n",
        "\n",
        "#notebook_panel { /* main background */\n",
        "    background: #f7f7f7;\n",
        "}\n",
        "\n",
        "div.cell { /* set cell width */\n",
        "    width: 900px;\n",
        "}\n",
        "\n",
        "div #notebook { /* centre the content */\n",
        "    background: #fff; /* white background for content */\n",
        "    width: 950px;\n",
        "    margin: auto;\n",
        "    padding-left: 0em;\n",
        "}\n",
        "\n",
        "#notebook li { /* More space between bullet points */\n",
        "    margin-top:0.7em;\n",
        "}\n",
        "\n",
        "/* draw border around running cells */\n",
        "div.cell.border-box-sizing.code_cell.running { \n",
        "    border: 1px solid #111;\n",
        "}\n",
        "\n",
        "/* Put a solid color box around each cell and its output, visually linking them*/\n",
        "div.cell.code_cell {\n",
        "    font-family: 'Source Sans Pro', sans-serif;\n",
        "    background-color: rgb(256,256,256);\n",
        "    font-size: 110%;\n",
        "    border-radius: 0px; \n",
        "    padding: 0.5em;\n",
        "    margin-left:1em;\n",
        "    margin-top: 1em;\n",
        "}\n",
        "\n",
        "div.text_cell_render{\n",
        "    font-family: 'Josefin Sans', serif;\n",
        "    line-height: 145%;\n",
        "    font-size: 125%;\n",
        "    font-weight: 500;\n",
        "    width:750px;\n",
        "    margin-left:auto;\n",
        "    margin-right:auto;\n",
        "}\n",
        "\n",
        "\n",
        "/* Formatting for header cells */\n",
        ".text_cell_render h1, .text_cell_render h2, .text_cell_render h3,\n",
        ".text_cell_render h4, .text_cell_render h5 {\n",
        "    font-family: 'Ubuntu Condensed', sans-serif;\n",
        "}\n",
        "/*\n",
        ".text_cell_render h1 {\n",
        "    font-family: Flux, 'Ubuntu Condensed', serif;\n",
        "    font-style:regular;\n",
        "    font-weight: 400;    \n",
        "    font-size: 30pt;\n",
        "    text-align: center;\n",
        "    line-height: 100%;\n",
        "    color: #335082;\n",
        "    margin-bottom: 0.5em;\n",
        "    margin-top: 0.5em;\n",
        "    display: block;\n",
        "}\n",
        "*/\n",
        ".text_cell_render h1 {\n",
        "    font-weight: 600;\n",
        "    font-size: 35pt;\n",
        "    line-height: 100%;\n",
        "    color: #234765;\n",
        "    margin-bottom: 0.1em;\n",
        "    margin-top: 0.3em;\n",
        "    display: block;\n",
        "}\n",
        "\n",
        ".text_cell_render h2 {\n",
        "    margin-top:16px;\n",
        "    font-size: 27pt;\n",
        "    font-weight: 550;\n",
        "    margin-bottom: 0.1em;\n",
        "    margin-top: 0.3em;\n",
        "    font-style: regular;\n",
        "    color: #234765;\n",
        "}\t\n",
        "\n",
        ".text_cell_render h3 {\n",
        "    font-size: 20pt;\n",
        "    font-weight: 550\n",
        "    text-align: left;\n",
        "    margin-bottom: 0.1em;\n",
        "    margin-top: 0.3em;\n",
        "    font-style: regular;\n",
        "    color:  #376f9e;\n",
        "}\n",
        "\n",
        ".text_cell_render h4 {    /*Use this for captions*/\n",
        "    font-size: 18pt;\n",
        "    font-weight: 450\n",
        "    text-align: left;\n",
        "    margin-bottom: 0.1em;\n",
        "    margin-top: 0.3em;\n",
        "    font-style: regular;\n",
        "    color:  #376f9e;\n",
        "}\n",
        "\n",
        ".text_cell_render h5 {  /*Use this for small titles*/\n",
        "    font-size: 18pt;\n",
        "    font-weight: 550;\n",
        "    color: rgb(163,0,0);\n",
        "    font-style: italic;\n",
        "    margin-bottom: .1em;\n",
        "    margin-top: 0.8em;\n",
        "    display: block;\n",
        "    color:  #b21c0d;\n",
        "}\n",
        "\n",
        ".text_cell_render h6 { /*use this for copyright note*/\n",
        "    font-family: 'Ubuntu Condensed', sans-serif;\n",
        "    font-weight: 300;\n",
        "    font-size: 14pt;\n",
        "    line-height: 100%;\n",
        "    color: #252525;\n",
        "    text-align: right;\n",
        "    margin-bottom: 1px;\n",
        "    margin-top: 1px;\n",
        "}\n",
        "\n",
        ".CodeMirror{\n",
        "        font-family: 'Duru Sans', sans-serif;\n",
        "        font-size: 100%;\n",
        "}\n",
        "\n",
        "</style>\n",
        "<script>\n",
        "    MathJax.Hub.Config({\n",
        "                        TeX: {\n",
        "                           extensions: [\"AMSmath.js\"],\n",
        "                           equationNumbers: { autoNumber: \"AMS\", useLabelIds: true}\n",
        "                           },\n",
        "                tex2jax: {\n",
        "                    inlineMath: [ ['$','$'], [\"\\\\(\",\"\\\\)\"] ],\n",
        "                    displayMath: [ ['$$','$$'], [\"\\\\[\",\"\\\\]\"] ]\n",
        "                },\n",
        "                displayAlign: 'center', // Change this to 'center' to center equations.\n",
        "                \"HTML-CSS\": {\n",
        "                    styles: {'.MathJax_Display': {\"margin\": 4}}\n",
        "                }\n",
        "        });\n",
        "</script>\n"
       ],
       "metadata": {},
       "output_type": "pyout",
       "prompt_number": 20,
       "text": [
        "<IPython.core.display.HTML at 0xb97df60>"
       ]
      }
     ],
     "prompt_number": 20
    }
   ],
   "metadata": {}
  }
 ]
}